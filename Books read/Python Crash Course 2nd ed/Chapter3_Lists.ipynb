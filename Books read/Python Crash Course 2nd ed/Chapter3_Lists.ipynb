{
 "cells": [
  {
   "cell_type": "code",
   "execution_count": 1,
   "metadata": {},
   "outputs": [
    {
     "name": "stdout",
     "output_type": "stream",
     "text": [
      "['Python Crash Course', 'Lessons in Chemistry', 'Creating a Data-driven Organisation', 'The Phoenix Project']\n"
     ]
    }
   ],
   "source": [
    "# Lists: introduction\n",
    "    # Lists can contain anything, including other lists\n",
    "\n",
    "books = [\"Python Crash Course\", \"Lessons in Chemistry\", \"Creating a Data-driven Organisation\", \"The Phoenix Project\"]\n",
    "print(books)"
   ]
  },
  {
   "cell_type": "code",
   "execution_count": 4,
   "metadata": {},
   "outputs": [
    {
     "name": "stdout",
     "output_type": "stream",
     "text": [
      "Lessons in Chemistry\n",
      "LESSONS IN CHEMISTRY\n",
      "The Phoenix Project\n"
     ]
    }
   ],
   "source": [
    "# Lists: Accessing Elements in a List \n",
    "print(books[1])\n",
    "print(books[1].upper())\n",
    "print(books[-1]) #last element"
   ]
  },
  {
   "cell_type": "code",
   "execution_count": 5,
   "metadata": {},
   "outputs": [
    {
     "name": "stdout",
     "output_type": "stream",
     "text": [
      "The last book I've read was The Phoenix Project\n"
     ]
    }
   ],
   "source": [
    "# Lists: Using Individual Values from a List \n",
    "message = f\"The last book I've read was {books[-1]}\"\n",
    "print(message)"
   ]
  },
  {
   "cell_type": "code",
   "execution_count": null,
   "metadata": {},
   "outputs": [
    {
     "name": "stdout",
     "output_type": "stream",
     "text": [
      "['Python Crash Course', 'Lessons in Chemistry', 'Creating a Data-driven Organisation', 'The Unicorn Project']\n"
     ]
    }
   ],
   "source": [
    "# Lists: Modifying Elements in a List\n",
    "books[-1] = \"The Unicorn Project\"\n",
    "print(books)"
   ]
  },
  {
   "cell_type": "code",
   "execution_count": 8,
   "metadata": {},
   "outputs": [
    {
     "name": "stdout",
     "output_type": "stream",
     "text": [
      "['Python Crash Course', 'Lessons in Chemistry', 'Creating a Data-driven Organisation', 'The Unicorn Project', 'The DAX Guide', 'The DAX Guide']\n",
      "['Python Crash Course', 'Lessons in Chemistry', 'Creating a Data-driven Organisation', 'The Phoenix Project', 'The Unicorn Project', 'The DAX Guide', 'The DAX Guide']\n"
     ]
    }
   ],
   "source": [
    "# Lists: Adding Elements to a List \n",
    "books.append(\"The DAX Guide\") #always appends at the end\n",
    "print(books)\n",
    "\n",
    "books.insert(3, \"The Phoenix Project\")\n",
    "print(books)"
   ]
  },
  {
   "cell_type": "code",
   "execution_count": 14,
   "metadata": {},
   "outputs": [
    {
     "name": "stdout",
     "output_type": "stream",
     "text": [
      "['Python Crash Course', 'Lessons in Chemistry', 'Creating a Data-driven Organisation']\n",
      "['Python Crash Course', 'Lessons in Chemistry']\n",
      "Creating a Data-driven Organisation\n",
      "First book from the list was Python Crash Course\n",
      "['Lessons in Chemistry']\n"
     ]
    }
   ],
   "source": [
    "# Lists: Removing Elements from a List\n",
    "books = [\"Python Crash Course\", \"Lessons in Chemistry\", \"Creating a Data-driven Organisation\", \"The Phoenix Project\"]\n",
    "\n",
    "del books[-1] # delete method - for when you won't use the item again \n",
    "print(books)\n",
    "\n",
    "popped_book = books.pop() # pop() method for when you want to use the item again\n",
    "print(books)\n",
    "print(popped_book)\n",
    "\n",
    "first_book = books.pop(0)\n",
    "first_book_message = f\"First book from the list was {first_book}\"\n",
    "print(first_book_message)\n",
    "print(books)\n"
   ]
  },
  {
   "cell_type": "code",
   "execution_count": null,
   "metadata": {},
   "outputs": [
    {
     "name": "stdout",
     "output_type": "stream",
     "text": [
      "['Python Crash Course', 'Lessons in Chemistry', 'The Phoenix Project']\n",
      "['Python Crash Course', 'Creating a Data-driven Organisation', 'The Phoenix Project']\n",
      "Lessons in Chemistry was removed as it wasn't about data\n"
     ]
    }
   ],
   "source": [
    "# Lists: Removing an Item by Value\n",
    "books = [\"Python Crash Course\", \"Lessons in Chemistry\", \"Creating a Data-driven Organisation\", \"The Phoenix Project\"]\n",
    "\n",
    "books.remove(\"Creating a Data-driven Organisation\") \n",
    "print(books)\n",
    "\n",
    "# remove an item saved in a variable (use loops to remove all instances of the variable)\n",
    "books = [\"Python Crash Course\", \"Lessons in Chemistry\", \"Creating a Data-driven Organisation\", \"The Phoenix Project\"]\n",
    "\n",
    "non_data_book = \"Lessons in Chemistry\"\n",
    "books.remove(non_data_book)\n",
    "print(books)\n",
    "print(f\"{non_data_book} was removed as it wasn't about data\")"
   ]
  },
  {
   "cell_type": "code",
   "execution_count": 33,
   "metadata": {},
   "outputs": [
    {
     "name": "stdout",
     "output_type": "stream",
     "text": [
      "['Alberto Ferrari', 'Carlos Ruiz Zafon', 'Dawid Podsiadlo']\n",
      "Dear Alberto Ferrari, I'd love to discuss Power BI with you.\n",
      "Dear Carlos Ruiz Zafon, the way you write moves me, I'd be honoured to have dinner with you.\n",
      "Dear Dawid Podsiadlo, your music is excellent and you've done so much for Polish arts that I'd love to thank you with a meal.\n",
      "Alberto Ferrari\n",
      "['Marco Russo', 'Carlos Ruiz Zafon', 'Dawid Podsiadlo']\n",
      "Dear Marco Russo, I'd love to discuss DAX with you.\n",
      "Dear Carlos Ruiz Zafon, the way you write moves me, I'd be honoured to have dinner with you.\n",
      "Dear Dawid Podsiadlo, your music is excellent and you've done so much for Polish arts that I'd love to thank you with a meal.\n",
      "I found a bigger dinner table! We'll be dining with three more people\n",
      "['Alberto Ferrari', 'Marco Russo', 'Mariolka', 'Carlos Ruiz Zafon', 'Dawid Podsiadlo', 'Brian Cox']\n",
      "Dear Alberto Ferrari, I'd love to discuss Power BI with you.\n",
      "Dear Marco Russo, I'd love to discuss DAX with you.\n",
      "Dear Mariolka, you're my whole world and you're not even a person. You are much more.\n",
      "Dear Carlos Ruiz Zafon, the way you write moves me, I'd be honoured to have dinner with you.\n",
      "Dear Dawid Podsiadlo, your music is excellent and you've done so much for Polish arts that I'd love to thank you with a meal.\n",
      "Dear Brian Cox, I feel like a conversation with you would change me forever, please have dinner with me.\n",
      "Bad news! I can only invite two people for dinner!\n",
      "Sorry Alberto Ferrari, I keep inviting and uninviting you, best if you just stay home, love you, bye\n",
      "Sorry Marco Russo, if Alberto Ferrari can't come, so do you, love you, bye\n",
      "Sorry Carlos Ruiz Zafon, I'm gutten about you not coming, til next time, love you, bye\n",
      "Sorry Dawid Podsiadlo, I'll see you at your concert, love you, bye\n",
      "['Mariolka', 'Brian Cox']\n",
      "[]\n"
     ]
    }
   ],
   "source": [
    "# Lists: exercises\n",
    "#Guest List: If you could invite anyone, living or deceased, to dinner, who\n",
    "#would you invite? Make a list that includes at least three people you’d like to\n",
    "#invite to dinner. Then use your list to print a message to each person, inviting\n",
    "#them to dinner.\n",
    "\n",
    "people = [\"Alberto Ferrari\", \"Carlos Ruiz Zafon\", \"Dawid Podsiadlo\"]\n",
    "message_1 = f\"Dear {people[0]}, I'd love to discuss Power BI with you.\"\n",
    "message_2 = f\"Dear {people[1]}, the way you write moves me, I'd be honoured to have dinner with you.\"\n",
    "message_3 = f\"Dear {people[-1]}, your music is excellent and you've done so much for Polish arts that I'd love to thank you with a meal.\"\n",
    "\n",
    "print(people)\n",
    "print(message_1)\n",
    "print(message_2)\n",
    "print(message_3)\n",
    "\n",
    "# Changing Guest List: You just heard that one of your guests can’t make the\n",
    "# dinner, so you need to send out a new set of invitations. You’ll have to think of\n",
    "# someone else to invite.\n",
    "# •\t Start with your program from Exercise 3-4. Add a print() call at the end\n",
    "#   of your program stating the name of the guest who can’t make it.\n",
    "# •\t Modify your list, replacing the name of the guest who can’t make it with\n",
    "#   the name of the new person you are inviting.\n",
    "# •\t Print a second set of invitation messages, one for each person who is still\n",
    "#   in your list.\n",
    "\n",
    "guest_not_coming = \"Alberto Ferrari\"\n",
    "print(guest_not_coming)\n",
    "\n",
    "new_guest = \"Marco Russo\"\n",
    "\n",
    "people[0] = new_guest #swap value for new one\n",
    "\n",
    "message_1 = f\"Dear {people[0]}, I'd love to discuss DAX with you.\"\n",
    "message_2 = f\"Dear {people[1]}, the way you write moves me, I'd be honoured to have dinner with you.\"\n",
    "message_3 = f\"Dear {people[-1]}, your music is excellent and you've done so much for Polish arts that I'd love to thank you with a meal.\"\n",
    "\n",
    "print(people)\n",
    "print(message_1)\n",
    "print(message_2)\n",
    "print(message_3)\n",
    "\n",
    "\n",
    "# More Guests: You just found a bigger dinner table, so now more space is\n",
    "# available. Think of three more guests to invite to dinner.\n",
    "# •\t Start with your program from Exercise 3-4 or Exercise 3-5. Add a print()\n",
    "#   call to the end of your program informing people that you found a bigger\n",
    "#   dinner table.\n",
    "# •\t Use insert() to add one new guest to the beginning of your list.\n",
    "# •\t Use insert() to add one new guest to the middle of your list.\n",
    "# •\t Use append() to add one new guest to the end of your list.\n",
    "# •\t Print a new set of invitation messages, one for each person in your list\n",
    "\n",
    "announcement = \"I found a bigger dinner table! We'll be dining with three more people\"\n",
    "print(announcement)\n",
    "\n",
    "people.insert(0, \"Alberto Ferrari\")\n",
    "people.insert(len(people)//2, \"Mariolka\")\n",
    "people.append(\"Brian Cox\")\n",
    "\n",
    "print(people)\n",
    "\n",
    "message_1 = f\"Dear {people[0]}, I'd love to discuss Power BI with you.\"\n",
    "message_2 = f\"Dear {people[1]}, I'd love to discuss DAX with you.\"\n",
    "message_3 = f\"Dear {people[2]}, you're my whole world and you're not even a person. You are much more.\"\n",
    "message_4 = f\"Dear {people[3]}, the way you write moves me, I'd be honoured to have dinner with you.\"\n",
    "message_5 = f\"Dear {people[4]}, your music is excellent and you've done so much for Polish arts that I'd love to thank you with a meal.\"\n",
    "message_6 = f\"Dear {people[-1]}, I feel like a conversation with you would change me forever, please have dinner with me.\"\n",
    "\n",
    "print(message_1)\n",
    "print(message_2)\n",
    "print(message_3)\n",
    "print(message_4)\n",
    "print(message_5)\n",
    "print(message_6)\n",
    "\n",
    "# Shrinking Guest List: You just found out that your new dinner table won’t\n",
    "# arrive in time for the dinner, and you have space for only two guests.\n",
    "# •\t Start with your program from Exercise 3-6. Add a new line that prints a\n",
    "#   message saying that you can invite only two people for dinner.\n",
    "# •\t Use pop() to remove guests from your list one at a time until only two\n",
    "#   names remain in your list. Each time you pop a name from your list, print\n",
    "#   a message to that person letting them know you’re sorry you can’t invite\n",
    "#   them to dinner.\n",
    "# •\t Print a message to each of the two people still on your list, letting them\n",
    "#   know they’re still invited.\n",
    "# •\t Use del to remove the last two names from your list, so you have an empty\n",
    "#   list. Print your list to make sure you actually have an empty list at the end\n",
    "#   of your program.\n",
    "\n",
    "announcement_two = \"Bad news! I can only invite two people for dinner!\"\n",
    "print(announcement_two)\n",
    "\n",
    "univited_1 = people.pop(0) #first person\n",
    "print(f\"Sorry {univited_1}, I keep inviting and uninviting you, best if you just stay home, love you, bye\")\n",
    "univited_2 = people.pop(0) # second person now became first person\n",
    "print(f\"Sorry {univited_2}, if {univited_1} can't come, so do you, love you, bye\")\n",
    "univited_3 = people.pop(1) # delete second person, coz 1st person is now Mariolka\n",
    "print(f\"Sorry {univited_3}, I'm gutten about you not coming, til next time, love you, bye\")\n",
    "univited_4 = people.pop(1) \n",
    "print(f\"Sorry {univited_4}, I'll see you at your concert, love you, bye\")\n",
    "\n",
    "print(people)\n",
    "\n",
    "del people[0]\n",
    "del people[0]\n",
    "\n",
    "print(people)\n"
   ]
  },
  {
   "cell_type": "code",
   "execution_count": null,
   "metadata": {},
   "outputs": [],
   "source": [
    "# Lists: Organising lists p81"
   ]
  },
  {
   "cell_type": "code",
   "execution_count": null,
   "metadata": {},
   "outputs": [],
   "source": []
  }
 ],
 "metadata": {
  "kernelspec": {
   "display_name": "Python 3",
   "language": "python",
   "name": "python3"
  },
  "language_info": {
   "codemirror_mode": {
    "name": "ipython",
    "version": 3
   },
   "file_extension": ".py",
   "mimetype": "text/x-python",
   "name": "python",
   "nbconvert_exporter": "python",
   "pygments_lexer": "ipython3",
   "version": "3.9.3"
  }
 },
 "nbformat": 4,
 "nbformat_minor": 2
}
