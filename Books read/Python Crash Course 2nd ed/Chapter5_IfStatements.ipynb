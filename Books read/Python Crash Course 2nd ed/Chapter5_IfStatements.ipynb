{
 "cells": [
  {
   "cell_type": "code",
   "execution_count": 6,
   "metadata": {},
   "outputs": [
    {
     "name": "stdout",
     "output_type": "stream",
     "text": [
      "DOBBLE\n",
      "Cascadia\n",
      "Railroad Ink\n",
      "Ticket To Ride\n",
      "Hold the jalapenos!\n",
      "This is incorrect, try again!\n"
     ]
    }
   ],
   "source": [
    "# IF statements\n",
    "games = [\"dobble\", \"cascadia\", \"railroad ink\", \"ticket to ride\"]\n",
    "\n",
    "for game in games:\n",
    "    if game == \"dobble\":\n",
    "        print(game.upper())\n",
    "    else:\n",
    "        print(game.title())\n",
    "\n",
    "# Case sensitivity\n",
    "game = \"Cascadia\"\n",
    "game == \"Cascadia\" # true\n",
    "game == \"cascadia\" # false\n",
    "\n",
    "game.lower() == \"cascadia\" # true\n",
    "\n",
    "# Checking for inequality\n",
    "pizza_topping = \"olives\"\n",
    "\n",
    "if pizza_topping != \"jalapenos\":\n",
    "    print(\"Hold the jalapenos!\")\n",
    "\n",
    "\n",
    "answer = 10\n",
    "if answer != 7:\n",
    "    print(\"This is incorrect, try again!\")"
   ]
  },
  {
   "cell_type": "code",
   "execution_count": 7,
   "metadata": {},
   "outputs": [
    {
     "data": {
      "text/plain": [
       "False"
      ]
     },
     "execution_count": 7,
     "metadata": {},
     "output_type": "execute_result"
    }
   ],
   "source": [
    "# IF statement: and condition\n",
    "age_0 = 18\n",
    "age_1 = 23 \n",
    "(age_0 >= 21) and (age_1 >= 21) # false, both ages aren't over 21"
   ]
  },
  {
   "cell_type": "code",
   "execution_count": 8,
   "metadata": {},
   "outputs": [
    {
     "data": {
      "text/plain": [
       "True"
      ]
     },
     "execution_count": 8,
     "metadata": {},
     "output_type": "execute_result"
    }
   ],
   "source": [
    "# IF statement: or condition\n",
    "age_0 = 18\n",
    "age_1 = 23\n",
    "(age_0 >= 21) or (age_1 >= 21) # true, at least one of the ages is over 21"
   ]
  },
  {
   "cell_type": "code",
   "execution_count": 11,
   "metadata": {},
   "outputs": [
    {
     "data": {
      "text/plain": [
       "False"
      ]
     },
     "execution_count": 11,
     "metadata": {},
     "output_type": "execute_result"
    }
   ],
   "source": [
    "# IF statements: Checking Whether a Value Is in a List\n",
    "\n",
    "requested_toppings = [\"mushrooms\", \"olives\", \"onions\"]\n",
    "\n",
    "\"mushrooms\" in requested_toppings # true \n",
    "\"peppers\" in requested_toppings # false"
   ]
  },
  {
   "cell_type": "code",
   "execution_count": 12,
   "metadata": {},
   "outputs": [
    {
     "name": "stdout",
     "output_type": "stream",
     "text": [
      "Mariola, you can access our website.\n"
     ]
    }
   ],
   "source": [
    "# IF statements: Checking Whether a Value Is Not in a List\n",
    "banned_users = [\"james\", \"andrew\", \"micah\"]\n",
    "\n",
    "user = \"mariola\"\n",
    "\n",
    "if user not in banned_users:\n",
    "    print(f\"{user.title()}, you can access our website.\")"
   ]
  },
  {
   "cell_type": "code",
   "execution_count": null,
   "metadata": {},
   "outputs": [],
   "source": [
    "# IF statements: Boolean Expressions\n",
    "    # either True or False\n",
    "    # used to keep track of certain conditions, e.g. game_active / can_edit\n",
    "    # efficient way to track state of a program, or an important condition of a program"
   ]
  },
  {
   "cell_type": "code",
   "execution_count": 16,
   "metadata": {},
   "outputs": [
    {
     "name": "stdout",
     "output_type": "stream",
     "text": [
      "Is car == 'subaru'? I predict True.\n",
      "True\n",
      "\n",
      "Is dog == 'Mariolka'? I predict True.\n",
      "True\n"
     ]
    }
   ],
   "source": [
    "# IF statements: exercises\n",
    "# Conditional Tests: Write a series of conditional tests. Print a statement\n",
    "# describing each test and your prediction for the results of each test. Your code\n",
    "# should look something like this:\n",
    "# car = 'subaru'\n",
    "# print(\"Is car == 'subaru'? I predict True.\")\n",
    "# print(car == 'subaru')\n",
    "# print(\"\\nIs car == 'audi'? I predict False.\")\n",
    "# print(car == 'audi')\n",
    "# •\t Look closely at your results, and make sure you understand why each line\n",
    "# evaluates to True or False.\n",
    "# •\t Create at least ten tests. Have at least five tests evaluate to True and\n",
    "# another five tests evaluate to False.\n",
    "\n",
    "car = 'subaru'\n",
    "print(\"Is car == 'subaru'? I predict True.\")\n",
    "print(car == 'subaru')\n",
    "\n",
    "dog = \"Mariolka\"\n",
    "print(\"\\nIs dog == 'Mariolka'? I predict True.\")\n",
    "print(dog == \"Mariolka\")\n",
    "\n"
   ]
  }
 ],
 "metadata": {
  "kernelspec": {
   "display_name": "Python 3",
   "language": "python",
   "name": "python3"
  },
  "language_info": {
   "codemirror_mode": {
    "name": "ipython",
    "version": 3
   },
   "file_extension": ".py",
   "mimetype": "text/x-python",
   "name": "python",
   "nbconvert_exporter": "python",
   "pygments_lexer": "ipython3",
   "version": "3.9.3"
  }
 },
 "nbformat": 4,
 "nbformat_minor": 2
}
